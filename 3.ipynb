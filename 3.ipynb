{
 "cells": [
  {
   "attachments": {},
   "cell_type": "markdown",
   "metadata": {},
   "source": [
    "# List"
   ]
  },
  {
   "cell_type": "code",
   "execution_count": null,
   "metadata": {},
   "outputs": [],
   "source": [
    "Nikki = [1, 5, 6.9, 'Ankita', 'Shristi', False]\n",
    "print(Nikki)\n",
    "\n",
    "print(Nikki[3])\n",
    "\n",
    "Nikki[1] = \"Nuskie\"\n",
    "print(Nikki)\n",
    "\n",
    "print(Nikki[3: ])"
   ]
  },
  {
   "attachments": {},
   "cell_type": "markdown",
   "metadata": {},
   "source": [
    "***List Methods***"
   ]
  },
  {
   "cell_type": "code",
   "execution_count": null,
   "metadata": {},
   "outputs": [],
   "source": [
    "l1 = [3, 5, 76, 34, 99, 34, 23, 67, 45]\n",
    "\n",
    "# l1.sort()       # It sorts list in ascending order\n",
    "print(l1)\n",
    "\n",
    "l1.reverse()    # It reverses the list\n",
    "print(l1)\n",
    "\n",
    "l1.append(55)     # append means add at end\n",
    "print(l1)\n",
    "\n",
    "l1.pop(2)     # item from third position is deleted\n",
    "print(l1)\n",
    "\n",
    "l1.remove(3)   # item from fourth position is removed\n",
    "print(l1)"
   ]
  },
  {
   "cell_type": "code",
   "execution_count": null,
   "metadata": {},
   "outputs": [],
   "source": [
    "# List of 4 fruits entered by user\n",
    "\n",
    "f1 = input(\"Enter name of fruit no_1 : \")\n",
    "f2 = input(\"Enter name of fruit no_2 : \")\n",
    "f3 = input(\"Enter name of fruit no_3 : \")\n",
    "f4 = input(\"Enter name of fruit no_4 : \")\n",
    "\n",
    "FruitList = [f1,f2,f3,f4]\n",
    "print(FruitList)\n",
    "\n",
    "# List can have repeted list"
   ]
  },
  {
   "cell_type": "code",
   "execution_count": null,
   "metadata": {},
   "outputs": [],
   "source": [
    "# Accept marks of 6 student and print in sorted manner\n",
    "\n",
    "m1 = int(input(\"Enter marks of student no_1 : \"))\n",
    "m2 = int(input(\"Enter marks of student no_2 : \"))\n",
    "m3 = int(input(\"Enter marks of student no_3 : \"))\n",
    "m4 = int(input(\"Enter marks of student no_4 : \"))\n",
    "\n",
    "Marks = [m1,m2,m3,m4]\n",
    "Marks.sort()\n",
    "print(Marks)"
   ]
  },
  {
   "cell_type": "code",
   "execution_count": null,
   "metadata": {},
   "outputs": [],
   "source": [
    "#LIST SUM\n",
    "\n",
    "a = [1,2,3,4,5,]\n",
    "print(a[0]+a[1]+a[2]+a[3]+a[4])\n",
    "print(sum(a))"
   ]
  },
  {
   "cell_type": "code",
   "execution_count": null,
   "metadata": {},
   "outputs": [],
   "source": [
    "#LIST COUNT\n",
    "\n",
    "a = [7,0,8,0,0,9]\n",
    "print(a.count(0)) "
   ]
  },
  {
   "attachments": {},
   "cell_type": "markdown",
   "metadata": {},
   "source": [
    "# TUPLE"
   ]
  },
  {
   "cell_type": "code",
   "execution_count": null,
   "metadata": {},
   "outputs": [],
   "source": [
    "# Creating a tuple with ()      \n",
    "Nikki = (1, 2, 3, 4, 5, 6)     \n",
    "print(Nikki[0])\n",
    "\n",
    "# Tuple cannot be updated but list can \n",
    "Nikki[0] = 35\n",
    "\n",
    "# Creating empty tuple\n",
    "Nikki = ()\n",
    "print(Nikki)\n",
    "\n",
    "# Creating tuple with one element\n",
    "Nikki = (2,)       # don't forget comma\n",
    "print(Nikki)"
   ]
  },
  {
   "cell_type": "code",
   "execution_count": null,
   "metadata": {},
   "outputs": [],
   "source": [
    "#TUPLE METHODS\n",
    "\n",
    "Nikki = (1, 2, 3, 4, 5, 6,2,2)\n",
    "print(Nikki.count(2))          # Counts how many times 2 has been repeated\n",
    "\n",
    "print(Nikki.index(3))    # Searches where does 3 lie"
   ]
  }
 ],
 "metadata": {
  "language_info": {
   "name": "python"
  },
  "orig_nbformat": 4
 },
 "nbformat": 4,
 "nbformat_minor": 2
}
