{
 "cells": [
  {
   "attachments": {},
   "cell_type": "markdown",
   "metadata": {},
   "source": [
    "# Basics of python"
   ]
  },
  {
   "cell_type": "code",
   "execution_count": 1,
   "metadata": {},
   "outputs": [
    {
     "name": "stdout",
     "output_type": "stream",
     "text": [
      "Hello World\n"
     ]
    }
   ],
   "source": [
    "\n",
    "print(\"Hello World\")"
   ]
  },
  {
   "cell_type": "code",
   "execution_count": 2,
   "metadata": {},
   "outputs": [
    {
     "name": "stdout",
     "output_type": "stream",
     "text": [
      "Twinkle, twinkle, little star,\n",
      "\n",
      "How I wonder what you are.\n",
      "\n",
      "Up above the world so high,\n",
      "\n",
      "Like a diamond in the sky.\n"
     ]
    }
   ],
   "source": [
    "#To print multiple lines\n",
    "print('''Twinkle, twinkle, little star,\n",
    "\n",
    "How I wonder what you are.\n",
    "\n",
    "Up above the world so high,\n",
    "\n",
    "Like a diamond in the sky.''')"
   ]
  },
  {
   "cell_type": "code",
   "execution_count": null,
   "metadata": {},
   "outputs": [],
   "source": [
    "#OPERATORS\n",
    "a = 2\n",
    "b = 2\n",
    "\n",
    "# Arithemetic Operators = (+ - * /) \n",
    "print(\"The value of 2+2 is\",2+2) \n",
    "\n",
    "# Assignment operators = (= += -= *= /=)\n",
    "a = 5\n",
    "a +=3\n",
    "print(a)\n",
    "\n",
    "# Comparison operator \n",
    "print(15<5)\n",
    "\n",
    "''' <= less than equal to \n",
    "    >= greater than or equal to\n",
    "    == equals to\n",
    "    != not equals to '''"
   ]
  },
  {
   "cell_type": "code",
   "execution_count": 3,
   "metadata": {},
   "outputs": [
    {
     "name": "stdout",
     "output_type": "stream",
     "text": [
      "<class 'int'>\n",
      "<class 'str'>\n",
      "5\n",
      "5\n",
      "5.0\n"
     ]
    }
   ],
   "source": [
    "#TYPECASTING\n",
    "a = 5            #integer\n",
    "print(type(a)) \n",
    "\n",
    "b = \"5\"          #string\n",
    "print(type(b))\n",
    "\n",
    "print(str(5))\n",
    "print(int(\"5\"))\n",
    "print(float(\"5\"))"
   ]
  },
  {
   "cell_type": "code",
   "execution_count": null,
   "metadata": {},
   "outputs": [],
   "source": [
    "# Addition and subtraction by default and user defined\n",
    "\n",
    "a = 25\n",
    "b = 20\n",
    "print(\"Sum of a+b is\",a+b)\n",
    "\n",
    "c = input(\"Enter first number : \")\n",
    "d = input(\"Enter second number : \")\n",
    "c = int(c)\n",
    "d = int(d)\n",
    "avg = (c+d)/2\n",
    "print(\"The average of two numbers is : \",avg)\n",
    "\n",
    "\n",
    "a = input(\"Enter value of a : \")\n",
    "a = int(a)\n",
    "square = a*a\n",
    "print(\"The square of a is : \",square)"
   ]
  }
 ],
 "metadata": {
  "kernelspec": {
   "display_name": "Python 3",
   "language": "python",
   "name": "python3"
  },
  "language_info": {
   "codemirror_mode": {
    "name": "ipython",
    "version": 3
   },
   "file_extension": ".py",
   "mimetype": "text/x-python",
   "name": "python",
   "nbconvert_exporter": "python",
   "pygments_lexer": "ipython3",
   "version": "3.10.5"
  },
  "orig_nbformat": 4
 },
 "nbformat": 4,
 "nbformat_minor": 2
}
