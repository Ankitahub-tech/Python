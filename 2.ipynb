{
 "cells": [
  {
   "cell_type": "code",
   "execution_count": 1,
   "metadata": {},
   "outputs": [
    {
     "name": "stdout",
     "output_type": "stream",
     "text": [
      "Good day, My Highness\n",
      "n\n",
      "A\n",
      "Ankita\n",
      "Akt\n"
     ]
    }
   ],
   "source": [
    "#STRING SlICING\n",
    "greeting = \"Good day, \"\n",
    "name = \"My Highness\"\n",
    "\n",
    "# Concatinating two strings\n",
    "greet = greeting + name \n",
    "print(greet)\n",
    "\n",
    "# Numbering in string starts with 0 and so on 0,1,2,3...\n",
    "a = \"Ankita\"  \n",
    "print(a[1])\n",
    "print(a[0])\n",
    "\n",
    "# String slicing\n",
    "print(a[0:6])  # Mero naam ko letter haru 0th position bata 5th position samma print hunchha \n",
    "\n",
    "# (a[0:6]) == (a[ :6])\n",
    "# (a[0:6]) == (a[0: ])\n",
    "\n",
    "# -1 is last index and so on like -1,-2,-3,...\n",
    "\n",
    "print(a[0:6:2])  #duita skip gardai print hunchha "
   ]
  },
  {
   "cell_type": "code",
   "execution_count": 1,
   "metadata": {},
   "outputs": [
    {
     "name": "stdout",
     "output_type": "stream",
     "text": [
      "122\n",
      "True\n",
      "3\n",
      "1\n",
      "Ankita is one of the most amazing human beings on this planet whose charisma,  \n",
      "whose charm  cannot be described in words!\n",
      "26\n",
      "codeWithankita is one of the most amazing human beings on this planet whose charisma,  \n",
      "whose charm  cannot be described in words!\n"
     ]
    }
   ],
   "source": [
    "#STRING FUNCTIONS\n",
    "a = '''ankita is one of the most amazing human beings on this planet whose charisma,  \n",
    "whose charm  cannot be described in words!'''\n",
    "\n",
    "print(len(a))\n",
    "print(a.endswith(\"!\"))\n",
    "print(a.count(\"be\"))\n",
    "print(a.count(\"human\"))\n",
    "print(a.capitalize())\n",
    "print(a.find(\"amazing\"))   # for word not in code, output will be -1 and only fisrt word will be found\n",
    "print(a.replace(\"ankita\", \"codeWithankita\"))"
   ]
  },
  {
   "cell_type": "code",
   "execution_count": 2,
   "metadata": {},
   "outputs": [
    {
     "name": "stdout",
     "output_type": "stream",
     "text": [
      "Good day Ankita\n"
     ]
    }
   ],
   "source": [
    "#USER INPUT\n",
    "a = input(\"Enter you name :\")\n",
    "print(\"Good day\",a)"
   ]
  },
  {
   "cell_type": "code",
   "execution_count": 3,
   "metadata": {},
   "outputs": [
    {
     "name": "stdout",
     "output_type": "stream",
     "text": [
      "Dear Jack,\n",
      "Greetings and Congratulations from Ankita Technologies!\n",
      "You are SELECTED!\n",
      "28th march\n"
     ]
    }
   ],
   "source": [
    "#LETTER TEMPLATE\n",
    "letter = '''Dear <|Name|>,\n",
    "Greetings and Congratulations from Ankita Technologies!\n",
    "You are SELECTED!\n",
    "<|Date|>'''\n",
    "\n",
    "name = input(\"Enter your name : \")\n",
    "date = input(\"Enter date : \")\n",
    "\n",
    "letter = letter.replace(\"<|Name|>\",name)\n",
    "letter = letter.replace(\"<|Date|>\",date)\n",
    "\n",
    "print(letter)"
   ]
  },
  {
   "cell_type": "code",
   "execution_count": 4,
   "metadata": {},
   "outputs": [
    {
     "name": "stdout",
     "output_type": "stream",
     "text": [
      "19\n"
     ]
    }
   ],
   "source": [
    "#FINDING DOUBLE SPACE\n",
    "a = \"This is a code with  DoubleSpace.\"\n",
    "\n",
    "DoubleSpace = a.find(\"  \")\n",
    "\n",
    "print(DoubleSpace)"
   ]
  },
  {
   "cell_type": "code",
   "execution_count": 5,
   "metadata": {},
   "outputs": [
    {
     "name": "stdout",
     "output_type": "stream",
     "text": [
      "This is a code with DoubleSpace.\n"
     ]
    }
   ],
   "source": [
    "#REPLACE\n",
    "\n",
    "# Replacing double space with single space\n",
    "\n",
    "a = \"This is a code with  DoubleSpace.\"\n",
    "\n",
    "DoubleSpace = a.replace(\"  \",\" \")\n",
    "\n",
    "print(DoubleSpace)"
   ]
  },
  {
   "cell_type": "code",
   "execution_count": 6,
   "metadata": {},
   "outputs": [
    {
     "name": "stdout",
     "output_type": "stream",
     "text": [
      "Dear Harry,This Python course is nice.Thanks!\n",
      "Dear Harry,\n",
      "\tThis Python course is nice.\n",
      "Thanks!\n"
     ]
    }
   ],
   "source": [
    "#ESCAPE SEQUENCE\n",
    "\n",
    "OldLetter = \"Dear Harry,This Python course is nice.Thanks!\"\n",
    "print(OldLetter)\n",
    "\n",
    "NewLetter = \"Dear Harry,\\n\\tThis Python course is nice.\\nThanks!\"\n",
    "print(NewLetter)"
   ]
  }
 ],
 "metadata": {
  "kernelspec": {
   "display_name": "Python 3",
   "language": "python",
   "name": "python3"
  },
  "language_info": {
   "codemirror_mode": {
    "name": "ipython",
    "version": 3
   },
   "file_extension": ".py",
   "mimetype": "text/x-python",
   "name": "python",
   "nbconvert_exporter": "python",
   "pygments_lexer": "ipython3",
   "version": "3.10.5"
  },
  "orig_nbformat": 4
 },
 "nbformat": 4,
 "nbformat_minor": 2
}
